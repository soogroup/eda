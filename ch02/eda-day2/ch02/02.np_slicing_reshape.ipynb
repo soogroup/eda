{
 "cells": [
  {
   "cell_type": "markdown",
   "metadata": {},
   "source": [
    "## 슬라이싱 (slicing)\n",
    "* 배열[a:b:c]를 이용하여 배열의 일부를 잘라 표시할 수 있음\n",
    "* a는 시작값, b는 끝값, c는 간격을 의미함\n",
    "* index는 0 ~ len-1까지 존재하며, 아무것도 입력하지 않고 :로 사용할 경우, 모든 행 또는 열을 의미함\n",
    "* :n으로 사용할 경우 0 ~ n-1 까지의 요소를 의미하며 n:으로 사용할 경우, n ~ len-1까지의 요소를 의미함\n",
    "* -1을 입력할 경우, 마지막 index-1를 의미함"
   ]
  },
  {
   "cell_type": "code",
   "execution_count": 25,
   "metadata": {},
   "outputs": [
    {
     "name": "stdout",
     "output_type": "stream",
     "text": [
      "[1 2 3 4 5] [1 2 3 4 5]\n",
      "[4 5]\n",
      "[2 3 4]\n",
      "[1 3]\n"
     ]
    }
   ],
   "source": [
    "import numpy as np\n",
    "\n",
    "a = np.array([1, 2, 3, 4, 5])\n",
    "\n",
    "print(a, a[:])\n",
    "print(a[3:])\n",
    "print(a[1:-1]) \n",
    "print(a[0:3:2])"
   ]
  },
  {
   "cell_type": "markdown",
   "metadata": {},
   "source": [
    "## 다차원 배열 슬라이싱 (slicing)\n",
    "* 배열[a:b, c:d]를 이용하여 배열의 일부를 잘라 표시할 수 있음\n",
    "* 동일하게 배열[a:b:e, c:d:f]를 이용하여 e와 f를 간격으로 사용할 수 있음\n",
    "* a ~ b는 표시할 행의 위치를 의미하며, c ~ d는 표시할 열의 위치를 의미함"
   ]
  },
  {
   "cell_type": "code",
   "execution_count": 26,
   "metadata": {},
   "outputs": [
    {
     "name": "stdout",
     "output_type": "stream",
     "text": [
      "[[1 2 3]\n",
      " [4 5 6]\n",
      " [7 8 9]] [[1 2 3]\n",
      " [4 5 6]\n",
      " [7 8 9]]\n",
      "[[2 3]\n",
      " [5 6]\n",
      " [8 9]]\n",
      "[[1 2 3]\n",
      " [4 5 6]]\n",
      "[1 2] [[1 2]]\n"
     ]
    }
   ],
   "source": [
    "import numpy as np\n",
    "\n",
    "a = np.array([\n",
    "    [1, 2, 3],\n",
    "    [4, 5, 6],\n",
    "    [7, 8, 9]])\n",
    "\n",
    "print(a, a[:])\n",
    "print(a___)\n",
    "print(a___)\n",
    "print(a___, a___) "
   ]
  },
  {
   "cell_type": "markdown",
   "metadata": {},
   "source": [
    "## 다차원 배열 슬라이싱 (slicing)\n",
    "* 배열의 슬라이싱에서 간격만 입력하여 배열을 출력할 수 있음\n",
    "* [::2, ::2]일 경우, 행을 2칸씩 띄우며, 열도 2칸씩 띄워 출력함"
   ]
  },
  {
   "cell_type": "code",
   "execution_count": 27,
   "metadata": {},
   "outputs": [
    {
     "name": "stdout",
     "output_type": "stream",
     "text": [
      "[[ 1  2  3  4  5]\n",
      " [ 6  7  8  9 10]\n",
      " [11 12 13 14 15]]\n",
      "[[ 1  3  5]\n",
      " [11 13 15]]\n"
     ]
    }
   ],
   "source": [
    "import numpy as np\n",
    "\n",
    "a = np.array([\n",
    "    [1, 2, 3, 4, 5],\n",
    "    [6, 7, 8, 9, 10],\n",
    "    [11, 12, 13, 14, 15]])\n",
    "\n",
    "print(a)\n",
    "print(a___)"
   ]
  },
  {
   "cell_type": "code",
   "execution_count": 28,
   "metadata": {},
   "outputs": [
    {
     "data": {
      "text/plain": [
       "(array([[ 1,  2,  3,  4,  5],\n",
       "        [ 6,  7,  8,  9, 10],\n",
       "        [11, 12, 13, 14, 15]]), array([[ 1,  2,  3,  4,  5],\n",
       "        [ 6,  7,  8,  9, 10],\n",
       "        [11, 12, 13, 14, 15]]), array([[ 1,  2,  3,  4,  5],\n",
       "        [ 6,  7,  8,  9, 10],\n",
       "        [11, 12, 13, 14, 15]]), array([[ 1,  2,  3,  4,  5],\n",
       "        [ 6,  7,  8,  9, 10],\n",
       "        [11, 12, 13, 14, 15]]))"
      ]
     },
     "execution_count": 28,
     "metadata": {},
     "output_type": "execute_result"
    }
   ],
   "source": [
    "a, a___, a___, a___"
   ]
  },
  {
   "cell_type": "markdown",
   "metadata": {},
   "source": [
    "## 리쉐이프 (Reshape)\n",
    "* 배열.shape = (행, 열)을 통하여 배열의 형태를 변환할 수 있음\n",
    "* 행렬의 값은 총 길이의 곱(개수)과 같아야함\n",
    "* 원본 배열의 크기가 3x4=12일 경우, 리쉐이프 할때 6x2=12로 총 개수와 동일해야함"
   ]
  },
  {
   "cell_type": "code",
   "execution_count": 30,
   "metadata": {},
   "outputs": [
    {
     "name": "stdout",
     "output_type": "stream",
     "text": [
      "[[ 1  2  3  4]\n",
      " [ 5  6  7  8]\n",
      " [ 9 10 11 12]]\n",
      "(3, 4) (3, 4)\n",
      "[[ 1  2]\n",
      " [ 3  4]\n",
      " [ 5  6]\n",
      " [ 7  8]\n",
      " [ 9 10]\n",
      " [11 12]]\n"
     ]
    }
   ],
   "source": [
    "import numpy as np\n",
    "\n",
    "a = np.array([\n",
    "    [1, 2, 3, 4],\n",
    "    [5, 6, 7, 8],\n",
    "    [9, 10, 11, 12]])\n",
    "\n",
    "print(a)\n",
    "print(___, ___)  # shape\n",
    "a.shape = ____  # reshape\n",
    "print(a)"
   ]
  },
  {
   "cell_type": "markdown",
   "metadata": {},
   "source": [
    "## 리쉐이프 (Reshape)\n",
    "* 3차원 이상의 배열 또한 형태를 변환할 수 있음\n",
    "* 배열.shape = (페이지, 행, 열)의 순서이며, 역시 총 길이의 개수와 동일해야함"
   ]
  },
  {
   "cell_type": "code",
   "execution_count": 32,
   "metadata": {},
   "outputs": [
    {
     "name": "stdout",
     "output_type": "stream",
     "text": [
      "[[[ 1  2  3]\n",
      "  [ 4  5  6]]\n",
      "\n",
      " [[ 7  8  9]\n",
      "  [10 11 12]]\n",
      "\n",
      " [[13 14 15]\n",
      "  [16 17 18]]]\n",
      "(3, 2, 3) (3, 2, 3)\n",
      "[[[ 1  2  3]\n",
      "  [ 4  5  6]\n",
      "  [ 7  8  9]]\n",
      "\n",
      " [[10 11 12]\n",
      "  [13 14 15]\n",
      "  [16 17 18]]]\n"
     ]
    }
   ],
   "source": [
    "import numpy as np\n",
    "\n",
    "a = np.array([[[1, 2, 3], [4, 5, 6]],\n",
    "              [[7, 8, 9], [10, 11, 12]],\n",
    "              [[13, 14, 15], [16, 17, 18]]])\n",
    "\n",
    "print(a)\n",
    "print(___, ___)  # shape\n",
    "a.shape = ___ # reshape\n",
    "print(a)"
   ]
  },
  {
   "cell_type": "code",
   "execution_count": null,
   "metadata": {},
   "outputs": [],
   "source": []
  }
 ],
 "metadata": {
  "kernelspec": {
   "display_name": "Python 3",
   "language": "python",
   "name": "python3"
  },
  "language_info": {
   "codemirror_mode": {
    "name": "ipython",
    "version": 3
   },
   "file_extension": ".py",
   "mimetype": "text/x-python",
   "name": "python",
   "nbconvert_exporter": "python",
   "pygments_lexer": "ipython3",
   "version": "3.6.9"
  }
 },
 "nbformat": 4,
 "nbformat_minor": 2
}
