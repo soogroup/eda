{
 "cells": [
  {
   "cell_type": "markdown",
   "metadata": {},
   "source": [
    "## 브로드캐스팅(Broadcasting)\n",
    "* 브로드캐스팅이란 Numpy 배열에서 차원의 크기가 서로 다른 배열에서도 산술 연산을 가능하게 하는 기능임\n",
    "* 두 배열 간 차원의 크기가 (4, 2), (2, ) 일 때 산술 연산을 실행한다면 (2, )의 배열이 (4, 2) 행렬의 각 행에 대해 요소별 연산을 실행할 수 있음\n",
    "* (2, )은 1차원 형태의 배열을 의미합니다. 즉, [a b]의 값을 지님\n",
    "\n",
    "## 브로드캐스팅 허용 규칙\n",
    "* 두 배열의 차원(ndim)이 같지 않다면 차원이 더 낮은 배열이 차원이 더 높은 배열과 같은 차원의 배열로 인식됨\n",
    "* 반환된 배열은 연산을 수행한 배열 중 차원의 수(ndim)가 가장 큰 배열이 됨\n",
    "* 연산에 사용된 배열과 반환된 배열의 차원의 크기(shape)가 같거나 1일 경우 브로드캐스팅이 가능함\n",
    "* 브로드캐스팅이 적용된 배열의 차원 크기(shape)는 연산에 사용된 배열들의 차원의 크기에 대한 최소 공배수 값으로 사용함"
   ]
  },
  {
   "cell_type": "markdown",
   "metadata": {},
   "source": [
    "## 브로드캐스팅(Broadcasting)\n",
    "* 각 배열의 차원이 달라도 브로드캐스팅 허용 규칙에 위반되지 않는다면 연산이 가능함\n",
    "* 형식 캐스팅(type casting)을 지원해 두 배열의 자료형(dtype)이 다르더라도 연산이 가능함\n",
    "* 형식 캐스팅 : 자료형을 비교해 표현 범위가 더 넓은 자료형을 선택하는 것을 의미함"
   ]
  },
  {
   "cell_type": "code",
   "execution_count": 1,
   "metadata": {},
   "outputs": [
    {
     "name": "stdout",
     "output_type": "stream",
     "text": [
      "[[2.5 4.5]\n",
      " [4.5 6.5]]\n",
      "\n",
      " [2.5 3.5 4.5 5.5]\n"
     ]
    }
   ],
   "source": [
    "import numpy as np \n",
    "\n",
    "array1 = np.array([1, 2, 3, 4])._______(2, 2)\n",
    "array2 = np.array([1.5, 2.5])\n",
    "add = array1 + array2\n",
    "print(add)\n",
    "\n",
    "array1 = np.array([1, 2, 3, 4])\n",
    "#array2 = np.array([1.5, 2.5])  # error\n",
    "array2 = np.array([1.5])\n",
    "add = array1 + array2\n",
    "print('\\n', add)"
   ]
  },
  {
   "cell_type": "code",
   "execution_count": 2,
   "metadata": {},
   "outputs": [
    {
     "name": "stdout",
     "output_type": "stream",
     "text": [
      "[[2.5 4.5]\n",
      " [4.5 6.5]]\n",
      "\n",
      " [[ 2.5  4.5]\n",
      " [ 4.5  6.5]\n",
      " [ 6.5  8.5]\n",
      " [ 8.5 10.5]]\n"
     ]
    }
   ],
   "source": [
    "import numpy as np \n",
    "\n",
    "array1 = np.array([1, 2, 3, 4]).reshape(2, 2)\n",
    "array2 = np.array([1.5, 2.5])\n",
    "add = array1 + array2\n",
    "print(add)\n",
    "\n",
    "array1 = np.array([[1, 2], [3, 4], [5, 6], [7, 8]])\n",
    "array2 = np.array([1.5, 2.5])\n",
    "add = array1 + array2\n",
    "print('\\n', add)"
   ]
  },
  {
   "cell_type": "code",
   "execution_count": 3,
   "metadata": {},
   "outputs": [
    {
     "name": "stdout",
     "output_type": "stream",
     "text": [
      "[[2.5 4.5]\n",
      " [4.5 6.5]]\n",
      "\n",
      " [[2.5 3.5]\n",
      " [4.5 5.5]\n",
      " [6.5 7.5]\n",
      " [8.5 9.5]]\n"
     ]
    }
   ],
   "source": [
    "import numpy as np \n",
    "\n",
    "array1 = np.array([1, 2, 3, 4]).reshape(2, 2)\n",
    "array2 = np.array([1.5, 2.5])\n",
    "add = array1 + array2\n",
    "print(add)\n",
    "\n",
    "array1 = np.array([[1, 2], [3, 4], [5, 6], [7, 8]])\n",
    "array2 = np.array([1.5])\n",
    "add = array1 + array2\n",
    "print('\\n', add)"
   ]
  },
  {
   "cell_type": "code",
   "execution_count": 4,
   "metadata": {},
   "outputs": [
    {
     "name": "stdout",
     "output_type": "stream",
     "text": [
      "(2, 3)\n",
      "[2.  3.5 5. ]\n",
      "(3,)\n",
      "\n",
      " [[-1.  -1.5 -2. ]\n",
      " [ 1.   1.5  2. ]]\n",
      "(2, 3)\n"
     ]
    }
   ],
   "source": [
    "import numpy as np \n",
    "\n",
    "x = np.array([[1, 2, 3],\n",
    "              [3, 5, 7]])\n",
    "print(x.shape)  # Prints (2, 3)\n",
    "\n",
    "col_means = ......\n",
    "print(col_means)          # Prints [2. 3.5 5.]\n",
    "print(col_means.shape)    # Prints (3,)\n",
    "                          # Has a smaller rank than x!\n",
    "\n",
    "mean_shifted = x - col_means\n",
    "print('\\n', mean_shifted)\n",
    "print(mean_shifted.shape)  # Prints (2, 3)"
   ]
  },
  {
   "cell_type": "code",
   "execution_count": 5,
   "metadata": {},
   "outputs": [
    {
     "name": "stdout",
     "output_type": "stream",
     "text": [
      "[[ 2  4  6]\n",
      " [ 6 10 14]]\n"
     ]
    }
   ],
   "source": [
    "import numpy as np \n",
    "\n",
    "x = np.array([[1, 2, 3],\n",
    "              [3, 5, 7]])\n",
    "print(.....) # Prints [[ 2  4  6]\n",
    "             #         [ 6 10 14]]"
   ]
  },
  {
   "cell_type": "markdown",
   "metadata": {},
   "source": [
    "## LAB 문제\n",
    "* x matrix의 각 요소 값들을 각 요소가 속한 행의 평균 값으로 빼려고 함 \n",
    "* 다음 아래 코드의 오류를 해결하세요"
   ]
  },
  {
   "cell_type": "code",
   "execution_count": 6,
   "metadata": {},
   "outputs": [
    {
     "name": "stdout",
     "output_type": "stream",
     "text": [
      "[2. 5.]\n",
      "(2, 3) (2,)\n"
     ]
    },
    {
     "ename": "ValueError",
     "evalue": "operands could not be broadcast together with shapes (2,3) (2,) ",
     "output_type": "error",
     "traceback": [
      "\u001b[1;31m---------------------------------------------------------------------------\u001b[0m",
      "\u001b[1;31mValueError\u001b[0m                                Traceback (most recent call last)",
      "\u001b[1;32m<ipython-input-6-21051dd82051>\u001b[0m in \u001b[0;36m<module>\u001b[1;34m\u001b[0m\n\u001b[0;32m      8\u001b[0m \u001b[0mprint\u001b[0m\u001b[1;33m(\u001b[0m\u001b[0mx\u001b[0m\u001b[1;33m.\u001b[0m\u001b[0mshape\u001b[0m\u001b[1;33m,\u001b[0m \u001b[0mrow_means\u001b[0m\u001b[1;33m.\u001b[0m\u001b[0mshape\u001b[0m\u001b[1;33m)\u001b[0m  \u001b[1;31m# (2, 3) (2,)\u001b[0m\u001b[1;33m\u001b[0m\u001b[1;33m\u001b[0m\u001b[0m\n\u001b[0;32m      9\u001b[0m \u001b[1;33m\u001b[0m\u001b[0m\n\u001b[1;32m---> 10\u001b[1;33m \u001b[0mmean_shifted\u001b[0m \u001b[1;33m=\u001b[0m \u001b[0mx\u001b[0m \u001b[1;33m-\u001b[0m \u001b[0mrow_means\u001b[0m  \u001b[1;31m# error\u001b[0m\u001b[1;33m\u001b[0m\u001b[1;33m\u001b[0m\u001b[0m\n\u001b[0m",
      "\u001b[1;31mValueError\u001b[0m: operands could not be broadcast together with shapes (2,3) (2,) "
     ]
    }
   ],
   "source": [
    "import numpy as np\n",
    "\n",
    "x = np.array([[1, 2, 3],\n",
    "              [3, 5, 7]])\n",
    "\n",
    "row_means = x.mean(axis=1)\n",
    "print(row_means)  # Prints [2. 5.]\n",
    "print(x.shape, row_means.shape)  # (2, 3) (2,)\n",
    "\n",
    "mean_shifted = x - row_means  # error"
   ]
  },
  {
   "cell_type": "markdown",
   "metadata": {},
   "source": [
    "## LAB 문제 - Compute outer product of vectors\n",
    "* v = np.array([1, 2, 3])  # v has shape (3,)\n",
    "* w = np.array([4, 5])    # w has shape (2,)\n",
    "* To compute an outer product, we first reshape v to be a column vector of shape (3, 1); we can then broadcast it against w to yield an output of shape (3, 2), which is the outer product of v and w: [[ 4  5] [ 8 10] [12 15]]"
   ]
  },
  {
   "cell_type": "markdown",
   "metadata": {},
   "source": [
    "## LAB 해결 - Compute outer product of vectors"
   ]
  },
  {
   "cell_type": "code",
   "execution_count": 8,
   "metadata": {},
   "outputs": [
    {
     "name": "stdout",
     "output_type": "stream",
     "text": [
      "[[ 4  5]\n",
      " [ 8 10]\n",
      " [12 15]]\n"
     ]
    }
   ],
   "source": [
    "import numpy as np\n",
    "\n",
    "v = np.array([1, 2, 3])  # v has shape (3,)\n",
    "w = np.array([4, 5])    # w has shape (2,)\n",
    "\n",
    "# v * w  ???\n",
    "......."
   ]
  },
  {
   "cell_type": "markdown",
   "metadata": {},
   "source": [
    "## Add a vector to each row of a matrix\n",
    "* x has shape (2, 3) and v has shape (3,) so they broadcast to (2, 3),\n",
    "* giving the following matrix: [[2 4 6] [5 7 9]]"
   ]
  },
  {
   "cell_type": "code",
   "execution_count": 10,
   "metadata": {},
   "outputs": [
    {
     "name": "stdout",
     "output_type": "stream",
     "text": [
      "[[2 4 6]\n",
      " [5 7 9]]\n"
     ]
    }
   ],
   "source": [
    "x = np.array([[1, 2, 3], [4, 5, 6]])\n",
    "v = np.array([1, 2, 3])  # v has shape (3,)\n",
    "print(x + v)"
   ]
  },
  {
   "cell_type": "markdown",
   "metadata": {},
   "source": [
    "## LAB 문제 - Add a vector to each column of a matrix\n",
    "* x has shape (2, 3) and w has shape (2,).\n",
    "* If we transpose x then it has shape (3, 2) and can be broadcast\n",
    " against w to yield a result of shape (3, 2); transposing this result\n",
    " yields the final result of shape (2, 3) which is the matrix x with\n",
    " the vector w added to each column. Gives the following matrix: [[ 5  6  7] [ 9 10 11]]\n",
    "\n",
    "* Another solution is to reshape w to be a column vector of shape (2, 1); we can then broadcast it directly against x to produce the same output.\n",
    "* x = np.array([[1, 2, 3], [4, 5, 6]])\n",
    "* w = np.array([4, 5])    # w has shape (2,)"
   ]
  },
  {
   "cell_type": "markdown",
   "metadata": {},
   "source": [
    "## LAB 해결 - Add a vector to each column of a matrix"
   ]
  },
  {
   "cell_type": "code",
   "execution_count": 11,
   "metadata": {},
   "outputs": [
    {
     "name": "stdout",
     "output_type": "stream",
     "text": [
      "[[ 5  6  7]\n",
      " [ 9 10 11]]\n",
      "[[ 5  6  7]\n",
      " [ 9 10 11]]\n"
     ]
    }
   ],
   "source": [
    "x = np.array([[1, 2, 3], [4, 5, 6]])\n",
    "w = np.array([4, 5])    # w has shape (2,)\n",
    "\n",
    "# method - 1\n",
    "....\n",
    "# method - 2 \n",
    "...."
   ]
  },
  {
   "cell_type": "code",
   "execution_count": null,
   "metadata": {},
   "outputs": [],
   "source": []
  }
 ],
 "metadata": {
  "kernelspec": {
   "display_name": "Python 3",
   "language": "python",
   "name": "python3"
  },
  "language_info": {
   "codemirror_mode": {
    "name": "ipython",
    "version": 3
   },
   "file_extension": ".py",
   "mimetype": "text/x-python",
   "name": "python",
   "nbconvert_exporter": "python",
   "pygments_lexer": "ipython3",
   "version": "3.6.9"
  }
 },
 "nbformat": 4,
 "nbformat_minor": 2
}
