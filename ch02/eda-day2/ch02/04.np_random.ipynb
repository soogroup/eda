{
 "cells": [
  {
   "cell_type": "markdown",
   "metadata": {},
   "source": [
    "## 무작위 선택\n",
    "* numpy.random.seed(n)을 이용하여 임의의 시드를 생성할 수 있음. 시드 값에 따라 난수의 생성 순서가 항상 같은 결과를 반환함\n",
    "* numpy.random.choice(배열, n, replace=True, p=None)을 이용하여 배열에서 n개의 값을 선택하여 반환할 수 있음\n",
    "* replace를 True로 사용할 경우, 값이 중복되어 선택되 반환될 수 있음. False로 사용할 경우, 값이 중복되지 않음\n",
    "* p를 이용하여 각 데이터가 선택될 확률을 설정할 수 있음. p 배열의 길이는 항상 배열의 길이와 같아야함\n",
    "* p값들의 총합은 항상 1이여야 하며, replace를 False로 사용할 경우, 값이 중복되지 않기 때문에 n개 이상 0의 값과 달라야함"
   ]
  },
  {
   "cell_type": "code",
   "execution_count": 17,
   "metadata": {},
   "outputs": [
    {
     "name": "stdout",
     "output_type": "stream",
     "text": [
      "[9 8 5 7 6]\n"
     ]
    }
   ],
   "source": [
    "import numpy as np\n",
    "\n",
    "np.random.seed(76923)\n",
    "\n",
    "a = np.array([1, 2, 3, 4, 5, 6, 7, 8, 9])\n",
    "b = __________(a, ___, replace=False, p=[0, 0, 0, 0, 0.05, 0.05, 0.15, 0.25, 0.5])\n",
    "\n",
    "print (b)"
   ]
  },
  {
   "cell_type": "markdown",
   "metadata": {},
   "source": [
    "## [난수 발생](https://docs.scipy.org/doc/numpy/reference/generated/numpy.matlib.randn.html#numpy.matlib.randn)\n",
    "* numpy.random.rand(n, m, ...)을 이용하여 다차원 무작위 배열을 생성할 수 있음[0, 1)\n",
    "* numpy.random.randn(n, m)을 이용하여 표준 정규 분포(평균0, 분산1)에서 무작위 배열을 생성할 수 있음\n",
    "* numpy.random.randint(low, high, (n, m), dtype=None)을 이용하여 low ~ high-1 사이의 무작위 (n, m) 크기정수 배열을 반환함"
   ]
  },
  {
   "cell_type": "code",
   "execution_count": 18,
   "metadata": {},
   "outputs": [
    {
     "name": "stdout",
     "output_type": "stream",
     "text": [
      "[[0.76367992 0.87641303]\n",
      " [0.53095238 0.38451373]]\n",
      "[[-0.15929049 -0.07981017]\n",
      " [ 1.73777738 -0.47496771]]\n",
      "[[2 8]\n",
      " [9 6]]\n"
     ]
    }
   ],
   "source": [
    "import numpy as np\n",
    "\n",
    "np.random.seed(76923)\n",
    "\n",
    "a = .....\n",
    "b = .....\n",
    "c = .....\n",
    "\n",
    "print(a)\n",
    "print(b)\n",
    "print(c)"
   ]
  },
  {
   "cell_type": "markdown",
   "metadata": {},
   "source": [
    "## [난수 발생](https://docs.scipy.org/doc/numpy/reference/random/generated/numpy.random.Generator.random.html#numpy.random.Generator.random)\n",
    "* numpy.random.random((n, m))과 numpy.random.sample((n, m))를 이용하여 0.0 ~ 1.0 사이의 무작위 (n, m) 크기 배열을 반환함\n",
    "* [0.0 ~ 1.0)"
   ]
  },
  {
   "cell_type": "code",
   "execution_count": 3,
   "metadata": {},
   "outputs": [
    {
     "name": "stdout",
     "output_type": "stream",
     "text": [
      "[[0.76367992 0.87641303 0.53095238]\n",
      " [0.38451373 0.2777934  0.05650517]]\n",
      "[[0.44143693 0.7142663  0.54434277]\n",
      " [0.74534435 0.89561778 0.36096285]]\n"
     ]
    }
   ],
   "source": [
    "import numpy as np\n",
    "\n",
    "np.random.seed(76923)\n",
    "\n",
    "a = np.random._____((2, 3))\n",
    "b = np.random._____((2, 3))\n",
    "\n",
    "print(a)\n",
    "print(b)"
   ]
  },
  {
   "cell_type": "markdown",
   "metadata": {},
   "source": [
    "## [난수 발생](https://docs.scipy.org/doc/numpy/reference/random/generated/numpy.random.Generator.uniform.html#numpy.random.Generator.uniform)\n",
    "* numpy.random.uniform(low, high, size)를 이용하여 [low, high) 사이의 균일한 분포의 무작위 배열을 반환함\n",
    "* numpy.random.lognormal(mean, sigma, size)를 이용하여 평균과 시그마를 대입한 로그 정규 분포의 무작위 배열을 반환함\n",
    "* numpy.random.laplace(loc, scale, size) : μ와 λ를 대입한 라플라스 분포의 무작위 배열을 반환함"
   ]
  },
  {
   "cell_type": "code",
   "execution_count": 20,
   "metadata": {},
   "outputs": [
    {
     "name": "stdout",
     "output_type": "stream",
     "text": [
      "[[1.76367992 1.87641303]\n",
      " [1.53095238 1.38451373]]\n",
      "[[ 17.12791367  18.54480749]\n",
      " [114.18014024  12.4912986 ]]\n",
      "[[ 0.09286726  0.67469586]\n",
      " [ 1.56654873 -0.32583306]]\n"
     ]
    }
   ],
   "source": [
    "import numpy as np\n",
    "\n",
    "np.random.seed(76923)\n",
    "\n",
    "a = np.random.uniform(1, 2, (2, 2))\n",
    "b = np.random.lognormal(3, 1, (2, 2))\n",
    "c = np.random.laplace(0, 1, (2, 2))\n",
    "\n",
    "print(a)\n",
    "print(b)\n",
    "print(c)"
   ]
  },
  {
   "cell_type": "code",
   "execution_count": null,
   "metadata": {},
   "outputs": [],
   "source": []
  }
 ],
 "metadata": {
  "kernelspec": {
   "display_name": "Python 3",
   "language": "python",
   "name": "python3"
  },
  "language_info": {
   "codemirror_mode": {
    "name": "ipython",
    "version": 3
   },
   "file_extension": ".py",
   "mimetype": "text/x-python",
   "name": "python",
   "nbconvert_exporter": "python",
   "pygments_lexer": "ipython3",
   "version": "3.6.9"
  }
 },
 "nbformat": 4,
 "nbformat_minor": 2
}
