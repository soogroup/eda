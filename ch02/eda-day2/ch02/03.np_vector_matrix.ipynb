{
 "cells": [
  {
   "cell_type": "markdown",
   "metadata": {},
   "source": [
    "## 사칙 연산\n",
    "* 사칙연산과 관련된 연산은 array와 array 사이에 연산 기호를 포함하여 계산할 수 있음"
   ]
  },
  {
   "cell_type": "code",
   "execution_count": 1,
   "metadata": {},
   "outputs": [
    {
     "name": "stdout",
     "output_type": "stream",
     "text": [
      "[[ 2  3  4]\n",
      " [ 5  6  7]\n",
      " [ 8  9 10]]\n",
      "[[0 1 2]\n",
      " [3 4 5]\n",
      " [6 7 8]]\n",
      "[[1 2 3]\n",
      " [4 5 6]\n",
      " [7 8 9]]\n",
      "[[1. 2. 3.]\n",
      " [4. 5. 6.]\n",
      " [7. 8. 9.]]\n"
     ]
    }
   ],
   "source": [
    "import numpy as np\n",
    "\n",
    "a = ......\n",
    "b = ......\n",
    "\n",
    "print(a+b)\n",
    "print(___)\n",
    "print(___)\n",
    "print(___)"
   ]
  },
  {
   "cell_type": "markdown",
   "metadata": {},
   "source": [
    "## 기타 연산\n",
    "* 내적의 경우, np.dot(a, b)를 이용하여 계산할 수 있음\n",
    "* 이외에도 sin(), cos(), tan(), ceil(), floor(), exp(), mod(), sqrt(), maximum(), minimum()등 다양한 수학 함수도 지원함"
   ]
  },
  {
   "cell_type": "code",
   "execution_count": 4,
   "metadata": {},
   "outputs": [
    {
     "name": "stdout",
     "output_type": "stream",
     "text": [
      "[ 6 15 24]\n",
      "[[ 6  6  6]\n",
      " [15 15 15]\n",
      " [24 24 24]]\n"
     ]
    }
   ],
   "source": [
    "import numpy as np\n",
    "\n",
    "a = np.array([[1, 2, 3], [4, 5, 6], [7, 8, 9]])\n",
    "b = np.ones(3, dtype=int)\n",
    "c = np.ones((3,3), dtype=int)\n",
    "\n",
    "print(....)\n",
    "print(....)"
   ]
  },
  {
   "cell_type": "markdown",
   "metadata": {},
   "source": [
    "## 매트릭스(Metrix) 연산\n",
    "* array * array의 경우, 결과는 각각의 원소에 대한 곱을 반환함\n",
    "* 행렬의 곱을 반환해야하는 경우, mat 형식으로 변환 후, 곱 연산을 실행함"
   ]
  },
  {
   "cell_type": "code",
   "execution_count": 7,
   "metadata": {},
   "outputs": [
    {
     "name": "stdout",
     "output_type": "stream",
     "text": [
      "[[ 1  6]\n",
      " [ 6 16]]\n",
      "<class 'numpy.ndarray'> <class 'numpy.matrix'>\n",
      "<class 'numpy.ndarray'> <class 'numpy.matrix'>\n",
      "[[ 5 11]\n",
      " [11 25]]\n"
     ]
    }
   ],
   "source": [
    "import numpy as np\n",
    "\n",
    "a = np.array([[1, 2], [3, 4]])\n",
    "b = np.array([[1, 3], [2, 4]])\n",
    "\n",
    "print(a*b)\n",
    "ma = ....\n",
    "print(type(a), type(ma))\n",
    "mb = ....\n",
    "print(type(a), type(ma))\n",
    "print(ma*mb)"
   ]
  },
  {
   "cell_type": "markdown",
   "metadata": {},
   "source": [
    "## 매트릭스 클래스\n",
    "* mat(배열).T의 경우, 매트릭스의 전치값을 반환함\n",
    "* mat(배열).A의 경우, 매트릭스 형식을 다시 array 형식으로 변환하여 반환함"
   ]
  },
  {
   "cell_type": "code",
   "execution_count": 10,
   "metadata": {},
   "outputs": [
    {
     "name": "stdout",
     "output_type": "stream",
     "text": [
      "[[1 3]\n",
      " [2 4]]\n",
      "[[1 3]\n",
      " [2 4]]\n",
      "<class 'numpy.matrix'> <class 'numpy.ndarray'>\n"
     ]
    }
   ],
   "source": [
    "import numpy as np\n",
    "\n",
    "a = np.array([[1, 2], [3, 4]])\n",
    "b = np.array([[1, 3], [2, 4]])\n",
    "\n",
    "ma = ....\n",
    "mb = ....\n",
    "\n",
    "print(ma)\n",
    "print(mb)\n",
    "print(type(ma), type(mb))"
   ]
  },
  {
   "cell_type": "markdown",
   "metadata": {},
   "source": [
    "## 차원 확장\n",
    "* index 중 np.newaxis를 이용하여 차원을 확장할 수 있음\n",
    "* 행 부분에 np.newaxis를 입력시, 차원을 한 단계 추가함\n",
    "* 열 부분에 np.newaxis를 입력시, 차원을 분해한 후 한 단계 추가함"
   ]
  },
  {
   "cell_type": "code",
   "execution_count": 11,
   "metadata": {},
   "outputs": [
    {
     "name": "stdout",
     "output_type": "stream",
     "text": [
      "[1 2 3 4]\n",
      "[[1 2 3 4]]\n",
      "[[1]\n",
      " [2]\n",
      " [3]\n",
      " [4]]\n"
     ]
    }
   ],
   "source": [
    "import numpy as np\n",
    "\n",
    "a = np.array([1, 2, 3, 4])\n",
    "\n",
    "print(a)\n",
    "print(a___)\n",
    "print(a___)"
   ]
  },
  {
   "cell_type": "markdown",
   "metadata": {},
   "source": [
    "## 차원 확장\n",
    "* 배열[:, :, :, ... , np.newaxis]를 이용하여 차원을 확장시킬 수 있음\n",
    "* 차원이 증가함에 따라 index의 표시법이 같이 증가함\n",
    "* 주로, 슬라이싱를 통한 연산에 사용됨"
   ]
  },
  {
   "cell_type": "code",
   "execution_count": 9,
   "metadata": {},
   "outputs": [
    {
     "name": "stdout",
     "output_type": "stream",
     "text": [
      "[[1 2]\n",
      " [3 4]\n",
      " [5 6]]\n",
      "\n",
      "\n",
      "[[[1 2]\n",
      "  [3 4]\n",
      "  [5 6]]]\n",
      "\n",
      "\n",
      "[[[1 2]\n",
      "  [3 4]\n",
      "  [5 6]]]\n",
      "\n",
      "\n"
     ]
    }
   ],
   "source": [
    "import numpy as np\n",
    "\n",
    "a = np.array([[1, 2],\n",
    "              [3, 4],\n",
    "              [5, 6]], dtype=int)\n",
    "print(a)\n",
    "print('\\n')\n",
    "\n",
    "b = a[np.newaxis, :]\n",
    "print(b)\n",
    "print('\\n')\n",
    "\n",
    "b = a[np.newaxis, :, :]\n",
    "print(b)\n",
    "print('\\n')"
   ]
  },
  {
   "cell_type": "code",
   "execution_count": 13,
   "metadata": {},
   "outputs": [
    {
     "name": "stdout",
     "output_type": "stream",
     "text": [
      "[[[1 2]]\n",
      "\n",
      " [[3 4]]\n",
      "\n",
      " [[5 6]]]\n",
      "\n",
      "\n",
      "[[[1]\n",
      "  [2]]\n",
      "\n",
      " [[3]\n",
      "  [4]]\n",
      "\n",
      " [[5]\n",
      "  [6]]]\n",
      "\n",
      "\n"
     ]
    }
   ],
   "source": [
    "import numpy as np\n",
    "\n",
    "a = np.array([[1, 2],\n",
    "              [3, 4],\n",
    "              [5, 6]], dtype=int)\n",
    "\n",
    "b = a[:, np.newaxis]\n",
    "print(b)\n",
    "print('\\n')\n",
    "\n",
    "b = a[:, :, np.newaxis]\n",
    "print(b)\n",
    "print('\\n')"
   ]
  },
  {
   "cell_type": "code",
   "execution_count": 11,
   "metadata": {},
   "outputs": [
    {
     "name": "stdout",
     "output_type": "stream",
     "text": [
      "[[1 2]]\n",
      "\n",
      "\n",
      "[[1 2]]\n",
      "\n",
      "\n",
      "[[1]\n",
      " [2]]\n",
      "\n",
      "\n"
     ]
    }
   ],
   "source": [
    "b = a[np.newaxis, 0]\n",
    "print(b)\n",
    "print('\\n')\n",
    "\n",
    "b = a[0, np.newaxis]\n",
    "print(b)\n",
    "print('\\n')\n",
    "\n",
    "b = .....\n",
    "print(b)\n",
    "print('\\n')"
   ]
  },
  {
   "cell_type": "code",
   "execution_count": 12,
   "metadata": {},
   "outputs": [
    {
     "name": "stdout",
     "output_type": "stream",
     "text": [
      "[[[1 2]\n",
      "  [3 4]]]\n",
      "\n",
      "\n",
      "[[[1 2]]\n",
      "\n",
      " [[3 4]]]\n",
      "\n",
      "\n",
      "[[[1]\n",
      "  [2]]\n",
      "\n",
      " [[3]\n",
      "  [4]]]\n",
      "\n",
      "\n"
     ]
    }
   ],
   "source": [
    "b = a[np.newaxis, 0:2]\n",
    "print(b)\n",
    "print('\\n')\n",
    "\n",
    "b = a[0:2, np.newaxis]\n",
    "print(b)\n",
    "print('\\n')\n",
    "\n",
    "b = .....\n",
    "print(b)\n",
    "print('\\n')"
   ]
  },
  {
   "cell_type": "markdown",
   "metadata": {},
   "source": [
    "## 차원 확장\n",
    "* 차원을 어떻게 나누느냐에 따라, 결과가 상이하게 달라짐\n",
    "* 주로, 배열[:, np.newaxis] 형태로 계산을 진행함"
   ]
  },
  {
   "cell_type": "code",
   "execution_count": 16,
   "metadata": {
    "scrolled": true
   },
   "outputs": [
    {
     "name": "stdout",
     "output_type": "stream",
     "text": [
      "[[1 4 9]]\n",
      "[[1 2 3]\n",
      " [2 4 6]\n",
      " [3 6 9]]\n",
      "\n",
      "\n",
      "[[2 4 6]]\n",
      "[[2 3 4]\n",
      " [3 4 5]\n",
      " [4 5 6]]\n"
     ]
    }
   ],
   "source": [
    "import numpy as np\n",
    "\n",
    "a = np.array([1, 2, 3])\n",
    "b = np.array([1, 2, 3])\n",
    "\n",
    "print(a[np.newaxis] * b)\n",
    "print(a[:, np.newaxis] * b)\n",
    "print(\"\\n\")\n",
    "print(a[np.newaxis] + b)\n",
    "print(a[:, np.newaxis] + b)"
   ]
  },
  {
   "cell_type": "markdown",
   "metadata": {},
   "source": [
    "## 병합\n",
    "* numpy.hstack([배열1, 배열2])를 이용하여 배열1 우측에 배열2를 이어 붙일 수 있음\n",
    "* numpy.vstack([배열1, 배열2])를 이용하여 배열1 하단에 배열2를 이어 붙일 수 있음"
   ]
  },
  {
   "cell_type": "code",
   "execution_count": 21,
   "metadata": {},
   "outputs": [
    {
     "name": "stdout",
     "output_type": "stream",
     "text": [
      "[[1 2]\n",
      " [3 4]]\n",
      "[[5 6]\n",
      " [7 8]]\n",
      "--------------------\n",
      "[[1 2 5 6]\n",
      " [3 4 7 8]]\n",
      "[[1 2]\n",
      " [3 4]\n",
      " [5 6]\n",
      " [7 8]]\n"
     ]
    }
   ],
   "source": [
    "import numpy as np\n",
    "\n",
    "a = np.array([[1, 2], [3, 4]])\n",
    "b = np.array([[5, 6], [7, 8]])\n",
    "c = _____([a, b])\n",
    "d = _____([a, b])\n",
    "\n",
    "print(a)\n",
    "print(b)\n",
    "print('-'*20)\n",
    "print(c)\n",
    "print(d)"
   ]
  },
  {
   "cell_type": "markdown",
   "metadata": {},
   "source": [
    "## 병합\n",
    "* numpy.stack([배열1, 배열2, axis=축])를 이용하여 지정한 축으로 배열1과 배열2를 이어 붙일 수 있음\n",
    "* 축은 이어 붙일 차원의 범위를 넘어갈 수 없음"
   ]
  },
  {
   "cell_type": "code",
   "execution_count": 22,
   "metadata": {
    "scrolled": true
   },
   "outputs": [
    {
     "name": "stdout",
     "output_type": "stream",
     "text": [
      "[[1 2]\n",
      " [3 4]]\n",
      "[[5 6]\n",
      " [7 8]]\n",
      "--------------------\n",
      "[[[1 2]\n",
      "  [3 4]]\n",
      "\n",
      " [[5 6]\n",
      "  [7 8]]]\n",
      "--------------------\n",
      "[[[1 2]\n",
      "  [5 6]]\n",
      "\n",
      " [[3 4]\n",
      "  [7 8]]]\n"
     ]
    }
   ],
   "source": [
    "import numpy as np\n",
    "\n",
    "a = np.array([[1, 2], [3, 4]])\n",
    "b = np.array([[5, 6], [7, 8]])\n",
    "c = .....\n",
    "d = .....\n",
    "\n",
    "print(a)\n",
    "print(b)\n",
    "print('-'*20)\n",
    "print(c)\n",
    "print('-'*20)\n",
    "print(d)"
   ]
  },
  {
   "cell_type": "markdown",
   "metadata": {},
   "source": [
    "## 병합\n",
    "* numpy.dstack([배열1, 배열2])를 이용하여 새로운 축으로 배열1과 배열2를 이어 붙일 수 있음\n",
    "* numpy.stack([a, b], axis=2)과 동일한 결과를 반환함"
   ]
  },
  {
   "cell_type": "code",
   "execution_count": 23,
   "metadata": {},
   "outputs": [
    {
     "name": "stdout",
     "output_type": "stream",
     "text": [
      "[[1 2]\n",
      " [3 4]]\n",
      "[[5 6]\n",
      " [7 8]]\n",
      "--------------------\n",
      "[[[1 5]\n",
      "  [2 6]]\n",
      "\n",
      " [[3 7]\n",
      "  [4 8]]]\n"
     ]
    }
   ],
   "source": [
    "import numpy as np\n",
    "\n",
    "a = np.array([[1, 2], [3, 4]])\n",
    "b = np.array([[5, 6], [7, 8]])\n",
    "c = .....\n",
    "\n",
    "print(a)\n",
    "print(b)\n",
    "print('-'*20)\n",
    "print(c)"
   ]
  },
  {
   "cell_type": "markdown",
   "metadata": {},
   "source": [
    "## 병합\n",
    "* numpy.tile(배열, 반복 횟수)를 이용하여 배열을 반복 횟수만큼 이어 붙일 수 있음"
   ]
  },
  {
   "cell_type": "code",
   "execution_count": 24,
   "metadata": {},
   "outputs": [
    {
     "name": "stdout",
     "output_type": "stream",
     "text": [
      "[[1 2]\n",
      " [3 4]]\n",
      "[[1 2 1 2 1 2]\n",
      " [3 4 3 4 3 4]]\n"
     ]
    }
   ],
   "source": [
    "import numpy as np\n",
    "\n",
    "a = np.array([[1, 2], [3, 4]])\n",
    "b = .....\n",
    "\n",
    "print(a)\n",
    "print(b)"
   ]
  },
  {
   "cell_type": "markdown",
   "metadata": {},
   "source": [
    "## 특수 병합 메소드\n",
    "* numpy.c_[배열1, 배열2]를 이용하여 배열1 우측에 배열2를 이어 붙일 수 있음\n",
    "* numpy.r_[배열1, 배열2]를 이용하여 배열1 하단에 배열2를 이어 붙일 수 있음\n",
    "* 소괄호 ()를 사용하지 않고 대괄호 []를 사용하여 메소드를 생성함"
   ]
  },
  {
   "cell_type": "code",
   "execution_count": 25,
   "metadata": {},
   "outputs": [
    {
     "name": "stdout",
     "output_type": "stream",
     "text": [
      "[[1 2 5 6]\n",
      " [3 4 7 8]]\n",
      "[[1 2]\n",
      " [3 4]\n",
      " [5 6]\n",
      " [7 8]]\n"
     ]
    }
   ],
   "source": [
    "import numpy as np\n",
    "\n",
    "a = np.array([[1, 2], [3, 4]])\n",
    "b = np.array([[5, 6], [7, 8]])\n",
    "c = .....\n",
    "d = .....\n",
    "\n",
    "print(c)\n",
    "print(d)"
   ]
  },
  {
   "cell_type": "code",
   "execution_count": null,
   "metadata": {},
   "outputs": [],
   "source": []
  }
 ],
 "metadata": {
  "kernelspec": {
   "display_name": "Python 3",
   "language": "python",
   "name": "python3"
  },
  "language_info": {
   "codemirror_mode": {
    "name": "ipython",
    "version": 3
   },
   "file_extension": ".py",
   "mimetype": "text/x-python",
   "name": "python",
   "nbconvert_exporter": "python",
   "pygments_lexer": "ipython3",
   "version": "3.6.9"
  }
 },
 "nbformat": 4,
 "nbformat_minor": 2
}
